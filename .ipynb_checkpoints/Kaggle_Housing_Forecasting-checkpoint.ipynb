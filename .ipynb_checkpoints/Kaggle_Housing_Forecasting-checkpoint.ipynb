{
 "cells": [
  {
   "cell_type": "markdown",
   "metadata": {},
   "source": [
    "# House Price Forecasting in Ames, IA\n",
    "As part of a Kaggle competition, we are going to implement a regression analysis to forecast house prices in Ames, IA.  "
   ]
  },
  {
   "cell_type": "markdown",
   "metadata": {},
   "source": [
    "## Setting up enviroment\n",
    "Below we are going to install the necessary packages and download the data needed to build our model"
   ]
  },
  {
   "cell_type": "code",
   "execution_count": 74,
   "metadata": {
    "collapsed": true
   },
   "outputs": [],
   "source": [
    "### Import Packages\n",
    "import numpy as np    #working efficiently with numbers\n",
    "import pandas as pd    #efficient data structure package\n",
    "from sklearn.model_selection import ShuffleSplit    #mix our data before splitting into training/testing\n",
    "from sklearn.metrics import r2_score    #our performance metric for each permutation of GridSearchCV\n",
    "from sklearn.model_selection import train_test_split    #splitting our data into training/testing sets\n",
    "from sklearn.preprocessing import Imputer    #assign numeric values to missing values\n",
    "from sklearn.tree import DecisionTreeRegressor    #building regression from a decision tree\n",
    "from sklearn.metrics import make_scorer    #make a performance metric\n",
    "from sklearn.model_selection import GridSearchCV    #assign a dictionary of values that act as a permutation to test\n",
    "from sklearn.ensemble import AdaBoostRegressor"
   ]
  },
  {
   "cell_type": "markdown",
   "metadata": {},
   "source": [
    "## Getting the data for project\n",
    "Importing the training comma separated values file and parsing out the training features from our target feature"
   ]
  },
  {
   "cell_type": "code",
   "execution_count": 75,
   "metadata": {},
   "outputs": [
    {
     "name": "stdout",
     "output_type": "stream",
     "text": [
      "   Id  MSSubClass MSZoning  LotFrontage  LotArea Street Alley LotShape  \\\n",
      "0   1          60       RL         65.0     8450   Pave   NaN      Reg   \n",
      "1   2          20       RL         80.0     9600   Pave   NaN      Reg   \n",
      "2   3          60       RL         68.0    11250   Pave   NaN      IR1   \n",
      "3   4          70       RL         60.0     9550   Pave   NaN      IR1   \n",
      "4   5          60       RL         84.0    14260   Pave   NaN      IR1   \n",
      "5   6          50       RL         85.0    14115   Pave   NaN      IR1   \n",
      "6   7          20       RL         75.0    10084   Pave   NaN      Reg   \n",
      "7   8          60       RL          NaN    10382   Pave   NaN      IR1   \n",
      "8   9          50       RM         51.0     6120   Pave   NaN      Reg   \n",
      "9  10         190       RL         50.0     7420   Pave   NaN      Reg   \n",
      "\n",
      "  LandContour Utilities    ...     PoolArea PoolQC  Fence MiscFeature MiscVal  \\\n",
      "0         Lvl    AllPub    ...            0    NaN    NaN         NaN       0   \n",
      "1         Lvl    AllPub    ...            0    NaN    NaN         NaN       0   \n",
      "2         Lvl    AllPub    ...            0    NaN    NaN         NaN       0   \n",
      "3         Lvl    AllPub    ...            0    NaN    NaN         NaN       0   \n",
      "4         Lvl    AllPub    ...            0    NaN    NaN         NaN       0   \n",
      "5         Lvl    AllPub    ...            0    NaN  MnPrv        Shed     700   \n",
      "6         Lvl    AllPub    ...            0    NaN    NaN         NaN       0   \n",
      "7         Lvl    AllPub    ...            0    NaN    NaN        Shed     350   \n",
      "8         Lvl    AllPub    ...            0    NaN    NaN         NaN       0   \n",
      "9         Lvl    AllPub    ...            0    NaN    NaN         NaN       0   \n",
      "\n",
      "  MoSold YrSold  SaleType  SaleCondition  SalePrice  \n",
      "0      2   2008        WD         Normal     208500  \n",
      "1      5   2007        WD         Normal     181500  \n",
      "2      9   2008        WD         Normal     223500  \n",
      "3      2   2006        WD        Abnorml     140000  \n",
      "4     12   2008        WD         Normal     250000  \n",
      "5     10   2009        WD         Normal     143000  \n",
      "6      8   2007        WD         Normal     307000  \n",
      "7     11   2009        WD         Normal     200000  \n",
      "8      4   2008        WD        Abnorml     129900  \n",
      "9      1   2008        WD         Normal     118000  \n",
      "\n",
      "[10 rows x 81 columns]\n"
     ]
    }
   ],
   "source": [
    "### Import Data\n",
    "data_train = pd.read_csv('data/train.csv')\n",
    "print(data_train.head(10))\n",
    "\n",
    "### Splitting Features and Target Data\n",
    "prices = data_train['SalePrice']\n",
    "features = data_train.drop('SalePrice', axis=1)"
   ]
  },
  {
   "cell_type": "markdown",
   "metadata": {},
   "source": [
    "## Preprocessing\n",
    "Implementing preprocessing steps for our data including dummy variables for categorical data, imputing missing values with averages, and replacing said missing missing values"
   ]
  },
  {
   "cell_type": "code",
   "execution_count": 76,
   "metadata": {},
   "outputs": [
    {
     "name": "stdout",
     "output_type": "stream",
     "text": [
      "     Id  MSSubClass  LotFrontage  LotArea  OverallQual  OverallCond  \\\n",
      "0   1.0        60.0    65.000000   8450.0          7.0          5.0   \n",
      "1   2.0        20.0    80.000000   9600.0          6.0          8.0   \n",
      "2   3.0        60.0    68.000000  11250.0          7.0          5.0   \n",
      "3   4.0        70.0    60.000000   9550.0          7.0          5.0   \n",
      "4   5.0        60.0    84.000000  14260.0          8.0          5.0   \n",
      "5   6.0        50.0    85.000000  14115.0          5.0          5.0   \n",
      "6   7.0        20.0    75.000000  10084.0          8.0          5.0   \n",
      "7   8.0        60.0    80.359517  10382.0          7.0          6.0   \n",
      "8   9.0        50.0    51.000000   6120.0          7.0          5.0   \n",
      "9  10.0       190.0    50.000000   7420.0          5.0          6.0   \n",
      "\n",
      "   YearBuilt  YearRemodAdd  MasVnrArea  BsmtFinSF1        ...          \\\n",
      "0     2003.0        2003.0       196.0       706.0        ...           \n",
      "1     1976.0        1976.0         0.0       978.0        ...           \n",
      "2     2001.0        2002.0       162.0       486.0        ...           \n",
      "3     1915.0        1970.0         0.0       216.0        ...           \n",
      "4     2000.0        2000.0       350.0       655.0        ...           \n",
      "5     1993.0        1995.0         0.0       732.0        ...           \n",
      "6     2004.0        2005.0       186.0      1369.0        ...           \n",
      "7     1973.0        1973.0       240.0       859.0        ...           \n",
      "8     1931.0        1950.0         0.0         0.0        ...           \n",
      "9     1939.0        1950.0         0.0       851.0        ...           \n",
      "\n",
      "   SaleType_Oth  SaleType_WD  SaleType_nan  SaleCondition_Abnorml  \\\n",
      "0           0.0          1.0           0.0                    0.0   \n",
      "1           0.0          1.0           0.0                    0.0   \n",
      "2           0.0          1.0           0.0                    0.0   \n",
      "3           0.0          1.0           0.0                    1.0   \n",
      "4           0.0          1.0           0.0                    0.0   \n",
      "5           0.0          1.0           0.0                    0.0   \n",
      "6           0.0          1.0           0.0                    0.0   \n",
      "7           0.0          1.0           0.0                    0.0   \n",
      "8           0.0          1.0           0.0                    1.0   \n",
      "9           0.0          1.0           0.0                    0.0   \n",
      "\n",
      "   SaleCondition_AdjLand  SaleCondition_Alloca  SaleCondition_Family  \\\n",
      "0                    0.0                   0.0                   0.0   \n",
      "1                    0.0                   0.0                   0.0   \n",
      "2                    0.0                   0.0                   0.0   \n",
      "3                    0.0                   0.0                   0.0   \n",
      "4                    0.0                   0.0                   0.0   \n",
      "5                    0.0                   0.0                   0.0   \n",
      "6                    0.0                   0.0                   0.0   \n",
      "7                    0.0                   0.0                   0.0   \n",
      "8                    0.0                   0.0                   0.0   \n",
      "9                    0.0                   0.0                   0.0   \n",
      "\n",
      "   SaleCondition_Normal  SaleCondition_Partial  SaleCondition_nan  \n",
      "0                   1.0                    0.0                0.0  \n",
      "1                   1.0                    0.0                0.0  \n",
      "2                   1.0                    0.0                0.0  \n",
      "3                   0.0                    0.0                0.0  \n",
      "4                   1.0                    0.0                0.0  \n",
      "5                   1.0                    0.0                0.0  \n",
      "6                   1.0                    0.0                0.0  \n",
      "7                   1.0                    0.0                0.0  \n",
      "8                   0.0                    0.0                0.0  \n",
      "9                   1.0                    0.0                0.0  \n",
      "\n",
      "[10 rows x 332 columns]\n"
     ]
    }
   ],
   "source": [
    "### Making Dummy Variable\n",
    "#Removing categorical data for regression analysis\n",
    "features = pd.get_dummies(features, dummy_na = True)\n",
    "\n",
    "### Removing NaN Values from DataFrame\n",
    "fill_NaN = Imputer(missing_values='NaN', strategy='mean', axis=1)\n",
    "\n",
    "# Create new Data rame with NaN values replaced with the column mean\n",
    "features2 = pd.DataFrame(fill_NaN.fit_transform(features))\n",
    "features2.columns = features.columns\n",
    "features2.index = features.index\n",
    "print(features2.head(10))"
   ]
  },
  {
   "cell_type": "markdown",
   "metadata": {},
   "source": [
    "## Prepping data for modeling\n",
    "Spliting out data into training and testing sets. We will also cross validate our data using ShuffleSplit"
   ]
  },
  {
   "cell_type": "code",
   "execution_count": 77,
   "metadata": {
    "collapsed": true
   },
   "outputs": [],
   "source": [
    "### Splitting into Training and Testing Sets\n",
    "X_train, X_test, y_train, y_test = train_test_split(features2,\n",
    "                                                    prices,\n",
    "                                                    test_size=0.3,\n",
    "                                                    random_state=0)\n",
    "\n",
    "### Creating Cross-Validation Sets\n",
    "cv_sets = ShuffleSplit(n_splits=10,\n",
    "                       test_size=0.8,\n",
    "                       random_state=0)"
   ]
  },
  {
   "cell_type": "markdown",
   "metadata": {},
   "source": [
    "### Building the score function"
   ]
  },
  {
   "cell_type": "code",
   "execution_count": 78,
   "metadata": {
    "collapsed": true
   },
   "outputs": [],
   "source": [
    "### Scoring Function\n",
    "def performance_metric(y_true, y_predict):\n",
    "    score = r2_score(y_true, y_predict)\n",
    "    return score"
   ]
  },
  {
   "cell_type": "markdown",
   "metadata": {},
   "source": [
    "## Building our regression function\n",
    "We chose to start with a decision tree regression because it is fast to implement and can act as a baseline for future iterations. In addition, we have a GridSearchCV to look over a list of parameters combinations that will optimize our model "
   ]
  },
  {
   "cell_type": "code",
   "execution_count": 89,
   "metadata": {},
   "outputs": [
    {
     "data": {
      "text/plain": [
       "DecisionTreeRegressor(criterion='mse', max_depth=6, max_features='auto',\n",
       "           max_leaf_nodes=None, min_impurity_split=1e-07,\n",
       "           min_samples_leaf=4, min_samples_split=2,\n",
       "           min_weight_fraction_leaf=0.0, presort=False, random_state=0,\n",
       "           splitter='best')"
      ]
     },
     "execution_count": 89,
     "metadata": {},
     "output_type": "execute_result"
    }
   ],
   "source": [
    "### Decision Tree Regression\n",
    "tree = DecisionTreeRegressor(random_state=0, presort=True)\n",
    "params = {'max_depth': range(1, 11),\n",
    "         'min_samples_leaf': range(1,5),\n",
    "         'max_features': ['auto','log2']}\n",
    "scoring_fnc = make_scorer(performance_metric)\n",
    "\n",
    "### GridSearch for Optimal Model Regular Decision Tree\n",
    "tree_grid = GridSearchCV(estimator=tree,\n",
    "                    param_grid=params,\n",
    "                    scoring=scoring_fnc,\n",
    "                    cv=cv_sets)\n",
    "tree_grid_fit = tree_grid.fit(X_train, y_train)\n",
    "tree_model = DecisionTreeRegressor(random_state=0, **tree_grid_fit.best_params_)\n",
    "tree_model = tree_model.fit(X_train, y_train)\n",
    "tree_model"
   ]
  },
  {
   "cell_type": "code",
   "execution_count": 90,
   "metadata": {},
   "outputs": [
    {
     "data": {
      "text/plain": [
       "AdaBoostRegressor(base_estimator=None, learning_rate=1.0, loss='linear',\n",
       "         n_estimators=300, random_state=0)"
      ]
     },
     "execution_count": 90,
     "metadata": {},
     "output_type": "execute_result"
    }
   ],
   "source": [
    "### GridSearch for Optimal Model Regular Decision Tree\n",
    "AdaTree = AdaBoostRegressor(random_state=0)\n",
    "params = {'n_estimators': [50,100,200,300],\n",
    "          'loss': ['linear','square','exponential']}\n",
    "AdaTree_grid = GridSearchCV(estimator=AdaTree,\n",
    "                    param_grid=params,\n",
    "                    scoring=scoring_fnc,\n",
    "                    cv=cv_sets)\n",
    "AdaTree_grid_fit = AdaTree_grid.fit(X_train, y_train)\n",
    "AdaTree_grid_model = AdaBoostRegressor(random_state=0, **AdaTree_grid_fit.best_params_)\n",
    "AdaTree_grid_model = AdaTree_grid_model.fit(X_train, y_train)\n",
    "AdaTree_grid_model"
   ]
  },
  {
   "cell_type": "code",
   "execution_count": 91,
   "metadata": {},
   "outputs": [
    {
     "name": "stdout",
     "output_type": "stream",
     "text": [
      "AdaBoostRegressor(base_estimator=DecisionTreeRegressor(criterion='mse', max_depth=6, max_features='auto',\n",
      "           max_leaf_nodes=None, min_impurity_split=1e-07,\n",
      "           min_samples_leaf=4, min_samples_split=2,\n",
      "           min_weight_fraction_leaf=0.0, presort=False, random_state=0,\n",
      "           splitter='best'),\n",
      "         learning_rate=1.0, loss='linear', n_estimators=50, random_state=0)\n"
     ]
    }
   ],
   "source": [
    "AdaTree_model = AdaBoostRegressor(tree_model, random_state=0)\n",
    "AdaTree_model = AdaTree_model.fit(X_train, y_train)\n",
    "print(AdaTree_model)"
   ]
  },
  {
   "cell_type": "code",
   "execution_count": 92,
   "metadata": {},
   "outputs": [
    {
     "name": "stdout",
     "output_type": "stream",
     "text": [
      "AdaBoostRegressor(base_estimator=DecisionTreeRegressor(criterion='mse', max_depth=6, max_features='auto',\n",
      "           max_leaf_nodes=None, min_impurity_split=1e-07,\n",
      "           min_samples_leaf=4, min_samples_split=2,\n",
      "           min_weight_fraction_leaf=0.0, presort=False, random_state=0,\n",
      "           splitter='best'),\n",
      "         learning_rate=1.0, loss='linear', n_estimators=300,\n",
      "         random_state=0)\n"
     ]
    }
   ],
   "source": [
    "AdaTreeCV_model = AdaBoostRegressor(base_estimator=tree_model, random_state=0, **AdaTree_grid_fit.best_params_)\n",
    "AdaTreeCV_model = AdaTreeCV_model.fit(X_train, y_train)\n",
    "print(AdaTreeCV_model)"
   ]
  },
  {
   "cell_type": "markdown",
   "metadata": {},
   "source": [
    "## Making predictions\n",
    "Using the optimized regression from our GridSearchCV above, we can predict using the test set and measure our performance. This is, again, a baseline for future iterations that we can improve on. "
   ]
  },
  {
   "cell_type": "code",
   "execution_count": 93,
   "metadata": {},
   "outputs": [
    {
     "name": "stdout",
     "output_type": "stream",
     "text": [
      "('The r2-score on the training data was', 0.8994)\n",
      "('The r2-score on the testing data was', 0.7211)\n"
     ]
    }
   ],
   "source": [
    "### Making Predictions with regular regression\n",
    "tree_pred_train = tree_model.predict(X_train)\n",
    "tree_perf_train = performance_metric(y_train, tree_pred_train)\n",
    "print(\"The r2-score on the training data was\", round(tree_perf_train, 4))\n",
    "tree_pred_test = tree_model.predict(X_test)\n",
    "tree_perf_test = performance_metric(y_test, tree_pred_test)\n",
    "print(\"The r2-score on the testing data was\", round(tree_perf_test, 4))"
   ]
  },
  {
   "cell_type": "code",
   "execution_count": 94,
   "metadata": {},
   "outputs": [
    {
     "name": "stdout",
     "output_type": "stream",
     "text": [
      "('The r2-score on the training data was', 0.873)\n",
      "('The r2-score on the testing data was', 0.7864)\n"
     ]
    }
   ],
   "source": [
    "### Making Predictions with AdaBoost rergession\n",
    "AdaTree_grid_pred_train = AdaTree_grid_model.predict(X_train)\n",
    "AdaTree_grid_perf_train = performance_metric(y_train, AdaTree_grid_pred_train)\n",
    "print(\"The r2-score on the training data was\", round(AdaTree_grid_perf_train, 4))\n",
    "AdaTree_grid_pred_test = AdaTree_grid_model.predict(X_test)\n",
    "AdaTree_grid_perf_test = performance_metric(y_test, AdaTree_grid_pred_test)\n",
    "print(\"The r2-score on the testing data was\", round(AdaTree_grid_perf_test, 4))"
   ]
  },
  {
   "cell_type": "code",
   "execution_count": 95,
   "metadata": {},
   "outputs": [
    {
     "name": "stdout",
     "output_type": "stream",
     "text": [
      "('The r2-score on the training data was', 0.9691)\n",
      "('The r2-score on the testing data was', 0.8539)\n"
     ]
    }
   ],
   "source": [
    "### Making Predictions with AdaBoostRegressor using Grid Searched Decision Tree Regessor as estimator\n",
    "AdaTree_pred_train = AdaTree_model.predict(X_train)\n",
    "AdaTree_perf_train = performance_metric(y_train, AdaTree_pred_train)\n",
    "print(\"The r2-score on the training data was\", round(AdaTree_perf_train, 4))\n",
    "AdaTree_pred_test = AdaTree_model.predict(X_test)\n",
    "AdaTree_perf_test = performance_metric(y_test, AdaTree_pred_test)\n",
    "print(\"The r2-score on the testing data was\", round(AdaTree_perf_test, 4))"
   ]
  },
  {
   "cell_type": "code",
   "execution_count": 96,
   "metadata": {},
   "outputs": [
    {
     "name": "stdout",
     "output_type": "stream",
     "text": [
      "('The r2-score on the training data was', 0.9732)\n",
      "('The r2-score on the testing data was', 0.858)\n"
     ]
    }
   ],
   "source": [
    "### Making Predictions with AdaBoostRegressor using Grid Searched Decision Tree Regessor as estimator\n",
    "AdaTreeCV_pred_train = AdaTreeCV_model.predict(X_train)\n",
    "AdaTreeCV_perf_train = performance_metric(y_train, AdaTreeCV_pred_train)\n",
    "print(\"The r2-score on the training data was\", round(AdaTreeCV_perf_train, 4))\n",
    "AdaTreeCV_pred_test = AdaTreeCV_model.predict(X_test)\n",
    "AdaTreeCV_perf_test = performance_metric(y_test, AdaTreeCV_pred_test)\n",
    "print(\"The r2-score on the testing data was\", round(AdaTreeCV_perf_test, 4))"
   ]
  }
 ],
 "metadata": {
  "kernelspec": {
   "display_name": "Python 3",
   "language": "python",
   "name": "python3"
  },
  "language_info": {
   "codemirror_mode": {
    "name": "ipython",
    "version": 2
   },
   "file_extension": ".py",
   "mimetype": "text/x-python",
   "name": "python",
   "nbconvert_exporter": "python",
   "pygments_lexer": "ipython2",
   "version": "2.7.13"
  }
 },
 "nbformat": 4,
 "nbformat_minor": 2
}
