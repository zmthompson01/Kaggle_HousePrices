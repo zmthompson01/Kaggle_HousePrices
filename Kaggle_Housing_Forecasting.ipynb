{
 "cells": [
  {
   "cell_type": "markdown",
   "metadata": {},
   "source": [
    "# House Price Forecasting in Ames, IA\n",
    "As part of a Kaggle competition, we are going to implement a regression analysis to forecast house prices in Ames, IA.  "
   ]
  },
  {
   "cell_type": "markdown",
   "metadata": {},
   "source": [
    "## Setting up enviroment\n",
    "Below we are going to install the necessary packages and download the data needed to build our model"
   ]
  },
  {
   "cell_type": "code",
   "execution_count": 8,
   "metadata": {
    "collapsed": true
   },
   "outputs": [],
   "source": [
    "### Import Packages\n",
    "import numpy as np    #working efficiently with numbers\n",
    "import pandas as pd    #efficient data structure package\n",
    "from sklearn.model_selection import ShuffleSplit    #mix our data before splitting into training/testing\n",
    "from sklearn.metrics import r2_score    #our performance metric for each permutation of GridSearchCV\n",
    "from sklearn.model_selection import train_test_split    #splitting our data into training/testing sets\n",
    "from sklearn.preprocessing import Imputer    #assign numeric values to missing values\n",
    "from sklearn.tree import DecisionTreeRegressor    #building regression from a decision tree\n",
    "from sklearn.metrics import make_scorer    #make a performance metric\n",
    "from sklearn.model_selection import GridSearchCV    #assign a dictionary of values that act as a permutation to test"
   ]
  },
  {
   "cell_type": "code",
   "execution_count": 9,
   "metadata": {
    "collapsed": true
   },
   "outputs": [],
   "source": [
    "### Import Data\n",
    "data_train = pd.read_csv('data/train.csv')\n",
    "\n",
    "### Splitting Features and Target Data\n",
    "prices = data_train['SalePrice']\n",
    "features = data_train.drop('SalePrice', axis=1)"
   ]
  },
  {
   "cell_type": "code",
   "execution_count": 10,
   "metadata": {
    "collapsed": true
   },
   "outputs": [],
   "source": [
    "### Making Dummy Variable\n",
    "#Removing categorical data for regression analysis\n",
    "features = pd.get_dummies(features, dummy_na = True)\n",
    "\n",
    "### Removing NaN Values from DataFrame\n",
    "fill_NaN = Imputer(missing_values='NaN', strategy='mean', axis=1)\n",
    "\n",
    "# Create new Data rame with NaN values replaced with the column mean\n",
    "features2 = pd.DataFrame(fill_NaN.fit_transform(features))\n",
    "features2.columns = features.columns\n",
    "features2.index = features.index"
   ]
  },
  {
   "cell_type": "code",
   "execution_count": 11,
   "metadata": {
    "collapsed": true
   },
   "outputs": [],
   "source": [
    "### Splitting into Training and Testing Sets\n",
    "X_train, X_test, y_train, y_test = train_test_split(features2,\n",
    "                                                    prices,\n",
    "                                                    test_size=0.2,\n",
    "                                                    random_state=0)\n",
    "# Check for Null/NaN values\n",
    "# print(X_train.isnull().values.any())\n",
    "# print(y_train.isnull().values.any())\n",
    "\n",
    "### Creating Cross-Validation Sets\n",
    "cv_sets = ShuffleSplit(n_splits=10,\n",
    "                       test_size=0.2,\n",
    "                       random_state=0)"
   ]
  },
  {
   "cell_type": "code",
   "execution_count": 12,
   "metadata": {
    "collapsed": true
   },
   "outputs": [],
   "source": [
    "### Scoring Function\n",
    "def performance_metric(y_true, y_predict):\n",
    "    score = r2_score(y_true, y_predict)\n",
    "    return score"
   ]
  },
  {
   "cell_type": "code",
   "execution_count": 15,
   "metadata": {},
   "outputs": [
    {
     "data": {
      "text/plain": [
       "GridSearchCV(cv=ShuffleSplit(n_splits=10, random_state=0, test_size=0.2, train_size=None),\n",
       "       error_score='raise',\n",
       "       estimator=DecisionTreeRegressor(criterion='mse', max_depth=None, max_features=None,\n",
       "           max_leaf_nodes=None, min_impurity_split=1e-07,\n",
       "           min_samples_leaf=1, min_samples_split=2,\n",
       "           min_weight_fraction_leaf=0.0, presort=False, random_state=0,\n",
       "           splitter='best'),\n",
       "       fit_params={}, iid=True, n_jobs=1,\n",
       "       param_grid={'max_depth': [1, 2, 3, 4, 5, 6, 7, 8, 9, 10]},\n",
       "       pre_dispatch='2*n_jobs', refit=True, return_train_score=True,\n",
       "       scoring=make_scorer(performance_metric), verbose=0)"
      ]
     },
     "execution_count": 15,
     "metadata": {},
     "output_type": "execute_result"
    }
   ],
   "source": [
    "### Decision Tree Regression\n",
    "tree = DecisionTreeRegressor(random_state=0)\n",
    "params = {'max_depth': range(1, 11)}\n",
    "scoring_fnc = make_scorer(performance_metric)\n",
    "\n",
    "### GridSearch for Optimal Model\n",
    "tree_grid = GridSearchCV(estimator=tree,\n",
    "                    param_grid=params,\n",
    "                    scoring=scoring_fnc,\n",
    "                    cv=cv_sets)\n",
    "tree_grid.fit(X_train, y_train)"
   ]
  },
  {
   "cell_type": "code",
   "execution_count": 14,
   "metadata": {},
   "outputs": [
    {
     "name": "stdout",
     "output_type": "stream",
     "text": [
      "('The r2-score on the training data was', 0.9076)\n",
      "('The r2-score on the testing data was', 0.8241)\n"
     ]
    }
   ],
   "source": [
    "### Making Predictions\n",
    "tree_pred_train = tree_grid.predict(X_train)\n",
    "tree_perf_train = performance_metric(y_train, tree_pred_train)\n",
    "print(\"The r2-score on the training data was\", round(tree_perf_train, 4))\n",
    "tree_pred_test = tree_grid.predict(X_test)\n",
    "tree_perf_test = performance_metric(y_test, tree_pred_test)\n",
    "print(\"The r2-score on the testing data was\", round(tree_perf_test, 4))"
   ]
  }
 ],
 "metadata": {
  "kernelspec": {
   "display_name": "Python 3",
   "language": "python",
   "name": "python3"
  },
  "language_info": {
   "codemirror_mode": {
    "name": "ipython",
    "version": 2
   },
   "file_extension": ".py",
   "mimetype": "text/x-python",
   "name": "python",
   "nbconvert_exporter": "python",
   "pygments_lexer": "ipython2",
   "version": "2.7.13"
  }
 },
 "nbformat": 4,
 "nbformat_minor": 2
}
